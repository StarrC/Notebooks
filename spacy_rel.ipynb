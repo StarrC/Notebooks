{
 "cells": [
  {
   "cell_type": "code",
   "execution_count": 1,
   "metadata": {},
   "outputs": [],
   "source": [
    "import spacy"
   ]
  },
  {
   "cell_type": "code",
   "execution_count": 27,
   "metadata": {},
   "outputs": [
    {
     "name": "stdout",
     "output_type": "stream",
     "text": [
      "\n",
      "\u001b[38;5;1m✘ Can't clone project, directory already exists:\n",
      "/Users/starrcorbin/Notebooks/rel_component\u001b[0m\n",
      "\n"
     ]
    }
   ],
   "source": [
    "!python -m spacy project clone tutorials/rel_component"
   ]
  },
  {
   "cell_type": "code",
   "execution_count": 29,
   "metadata": {},
   "outputs": [
    {
     "name": "stdout",
     "output_type": "stream",
     "text": [
      "\u001b[38;5;4mℹ Fetching 1 asset(s)\u001b[0m\n",
      "\u001b[38;5;2m✔ Asset already exists:\n",
      "/Users/starrcorbin/Notebooks/rel_component/assets/annotations.jsonl\u001b[0m\n"
     ]
    }
   ],
   "source": [
    "!python -m spacy project assets /Users/starrcorbin/Notebooks/rel_component\n"
   ]
  },
  {
   "cell_type": "code",
   "execution_count": 31,
   "metadata": {},
   "outputs": [
    {
     "name": "stdout",
     "output_type": "stream",
     "text": [
      "\u001b[38;5;4mℹ Running workflow 'all'\u001b[0m\n",
      "\u001b[1m\n",
      "==================================== data ====================================\u001b[0m\n",
      "Running command: /Users/starrcorbin/miniconda3/bin/python ./scripts/parse_data.py assets/annotations.jsonl data/train.spacy data/dev.spacy data/test.spacy\n",
      "\u001b[38;5;4mℹ 102 training sentences from 43 articles, 209/2346 pos instances.\u001b[0m\n",
      "\u001b[38;5;4mℹ 27 dev sentences from 5 articles, 56/710 pos instances.\u001b[0m\n",
      "\u001b[38;5;4mℹ 20 test sentences from 6 articles, 30/340 pos instances.\u001b[0m\n",
      "\u001b[1m\n",
      "================================= train_cpu =================================\u001b[0m\n",
      "Running command: /Users/starrcorbin/miniconda3/bin/python -m spacy train configs/rel_tok2vec.cfg --output training --paths.train data/train.spacy --paths.dev data/dev.spacy -c ./scripts/custom_functions.py\n",
      "\u001b[38;5;4mℹ Saving to output directory: training\u001b[0m\n",
      "\u001b[38;5;4mℹ Using CPU\u001b[0m\n",
      "\u001b[1m\n",
      "=========================== Initializing pipeline ===========================\u001b[0m\n",
      "[2023-08-19 17:22:58,637] [INFO] Set up nlp object from config\n",
      "[2023-08-19 17:22:58,642] [INFO] Pipeline: ['tok2vec', 'relation_extractor']\n",
      "[2023-08-19 17:22:58,643] [INFO] Created vocabulary\n",
      "[2023-08-19 17:22:58,643] [INFO] Finished initializing nlp object\n",
      "[2023-08-19 17:22:58,745] [INFO] Initialized pipeline components: ['tok2vec', 'relation_extractor']\n",
      "\u001b[38;5;2m✔ Initialized pipeline\u001b[0m\n",
      "\u001b[1m\n",
      "============================= Training pipeline =============================\u001b[0m\n",
      "\u001b[38;5;4mℹ Pipeline: ['tok2vec', 'relation_extractor']\u001b[0m\n",
      "\u001b[38;5;4mℹ Initial learn rate: 0.001\u001b[0m\n",
      "E    #       LOSS TOK2VEC  LOSS RELAT...  REL_MICRO_P  REL_MICRO_R  REL_MICRO_F  SCORE \n",
      "---  ------  ------------  -------------  -----------  -----------  -----------  ------\n",
      "  0       0          0.03           0.44        11.90        26.79        16.48    0.16\n",
      " 17     500          1.24          44.63        40.28        51.79        45.31    0.45\n",
      " 47    1000          0.20           7.64        55.56        44.64        49.50    0.50\n",
      " 97    1500          0.11           5.62        51.06        42.86        46.60    0.47\n",
      "180    2000          0.06           3.92        54.55        42.86        48.00    0.48\n",
      "302    2500          0.03           3.59        50.94        48.21        49.54    0.50\n"
     ]
    }
   ],
   "source": [
    "!python -m spacy project run all /Users/starrcorbin/Notebooks/rel_component\n",
    "\n"
   ]
  }
 ],
 "metadata": {
  "kernelspec": {
   "display_name": "Python 3",
   "language": "python",
   "name": "python3"
  },
  "language_info": {
   "codemirror_mode": {
    "name": "ipython",
    "version": 3
   },
   "file_extension": ".py",
   "mimetype": "text/x-python",
   "name": "python",
   "nbconvert_exporter": "python",
   "pygments_lexer": "ipython3",
   "version": "3.10.11"
  },
  "orig_nbformat": 4
 },
 "nbformat": 4,
 "nbformat_minor": 2
}
